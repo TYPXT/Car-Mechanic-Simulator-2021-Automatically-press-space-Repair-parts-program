{
 "cells": [
  {
   "cell_type": "code",
   "execution_count": 36,
   "metadata": {},
   "outputs": [],
   "source": [
    "import cv2\n",
    "import numpy as np\n",
    "import pyautogui\n",
    "import win32gui\n",
    "import tensorflow\n",
    "from keras.datasets import mnist\n",
    "from keras.models import Sequential\n",
    "from keras.layers import *"
   ]
  },
  {
   "cell_type": "code",
   "execution_count": 29,
   "metadata": {},
   "outputs": [],
   "source": [
    "def screen_capture(bbox):\n",
    "    # 获取屏幕截图\n",
    "    screenshot = pyautogui.screenshot()\n",
    "    \n",
    "    screenshot = screenshot.crop((0, 0, 1920, 1080))\n",
    "\n",
    "    # 裁剪截图\n",
    "    frame = cv2.cvtColor(np.array(screenshot), cv2.COLOR_RGB2BGR)\n",
    "    return frame\n",
    "def main():\n",
    "    # 初始化屏幕截图\n",
    "    bbox = (100, 100, 200, 200)  # 左上角坐标 (x, y)，右下角坐标 (w, h)\n",
    "    cropped_img = screen_capture(bbox)\n",
    "\n",
    "    # 显示截图\n",
    "    cv2.imshow(\"Captured Screen\", cropped_img)\n",
    "    cv2.waitKey(0)\n",
    "    cv2.destroyAllWindows()"
   ]
  },
  {
   "cell_type": "code",
   "execution_count": 30,
   "metadata": {},
   "outputs": [],
   "source": [
    "main()"
   ]
  },
  {
   "cell_type": "code",
   "execution_count": 2,
   "metadata": {},
   "outputs": [],
   "source": [
    "#截图\n",
    "import numpy as np\n",
    "import pyautogui\n",
    "import cv2\n",
    "import pygetwindow as gw\n",
    "import pygame\n",
    "import win32api\n",
    "# 初始化Pygame\n",
    "pygame.init()\n",
    "\n",
    "# 监听摇杆事件\n",
    "flag = True#退出循环判断\n",
    "i=0\n",
    "last=0\n",
    "REC=False#是否进入截图准备状态\n",
    "TRI=False#是否执行录制\n",
    "while flag:\n",
    "        # 获取屏幕截图\n",
    "        target_window = gw.getWindowsWithTitle('Car Mechanic Simulator 2021')[0]  # Replace '目标窗口标题' with the actual title of the window\n",
    "        #target_window = gw.getWindowsWithTitle('Euro Truck Simulator 2')[0]  # Replace '目标窗口标题' with the actual title of the window\n",
    "        window_rect = (target_window.left, target_window.top, target_window.width, target_window.height)\n",
    "    \n",
    "        screenshot = pyautogui.screenshot()\n",
    "        screenshot = screenshot.crop((window_rect[0]+440, window_rect[1]+272, window_rect[0] + 433+425, window_rect[1] +272+132))\n",
    "    \n",
    "        # 将截图转换成OpenCV图像\n",
    "        frame = cv2.cvtColor(np.array(screenshot), cv2.COLOR_RGB2BGR)\n",
    "        #resize = cv2.resize(frame, (320,180))#[:270,:480]\n",
    "        # 显示图像\n",
    "        cv2.imshow('Screen Capture', frame)\n",
    "    \n",
    "        if cv2.waitKey(1) == ord('p'):\n",
    "            cv2.imwrite(f'./capture/capture_{i}.png',frame)\n",
    "            i+=1\n",
    "        if cv2.waitKey(1) == ord('r'):\n",
    "            i+=1\n",
    "        # 检测按键事件，按下q键退出循环\n",
    "        if cv2.waitKey(1) == ord('q'):\n",
    "            break\n",
    "    \n",
    "    #i+=1\n",
    "# 清理资源\n",
    "cv2.destroyAllWindows()"
   ]
  },
  {
   "cell_type": "code",
   "execution_count": 77,
   "metadata": {},
   "outputs": [
    {
     "name": "stdout",
     "output_type": "stream",
     "text": [
      "19\n",
      "[0, 0, 0, 3, 4, 5, 6, 7, 0, 0, 0, 0, 0, 0, 0, 15, 16, 17, 18, 19]\n",
      "yes\n"
     ]
    }
   ],
   "source": [
    "import cv2\n",
    "\n",
    "def check_pixel_color(image, x, y, expected_color):\n",
    "    # 读取图片\n",
    "\n",
    "    # 检查指定位置的像素颜色\n",
    "    pixel_color = image[y, x]\n",
    "    if list(expected_color)[0]-2 <= list(pixel_color)[0] <= list(expected_color)[0]+2 and list(expected_color)[1]-15 <= list(pixel_color)[1] <= list(expected_color)[1]+15 and list(expected_color)[2]-30 <= list(pixel_color)[2] <= list(expected_color)[2]+30:\n",
    "        return True\n",
    "    else:\n",
    "        return False\n",
    "\n",
    "# 示例：检查指定图片上某个位置的像素颜色\n",
    "\n",
    "x, y = 31, 9 # 指定位置坐标\n",
    "cursor = [0, 160, 255]  # 指定颜色（BGR格式）\n",
    "green = [22, 246, 56]# [21,244,76]\n",
    "x_list = [12,32,53,74,95,116,137,157,178,199,220,241,262,282,303,324,345,366,386,407]\n",
    "y_list = [9,9,9,9,9,9,9,9,9,9,9,9,9,9,9,9,9,9,9,9]\n",
    "y_list2 = [119,119,119,119,119,119,119,119,119,119,119,119,119,119,119,119,119,119,119,119]\n",
    "#X,119\n",
    "def position(image,xlist,ylist,color,one=False):\n",
    "    position=[]\n",
    "    if one==True:\n",
    "        for x in range(len(xlist)):\n",
    "            if check_pixel_color(image, xlist[x]-1, ylist[x], color):\n",
    "                return x\n",
    "    else:\n",
    "        for x in range(len(xlist)):\n",
    "            if check_pixel_color(image, xlist[x]-1, ylist[x], color):\n",
    "                position.append(x)\n",
    "\n",
    "            else:\n",
    "                position.append(0)\n",
    "    return position\n",
    "#print(position(x_list,y_list,cursor,True))\n",
    "#print(position(x_list,y_list2,green))\n",
    "#if position(x_list,y_list,cursor,True) in position(x_list,y_list2,green):\n",
    "    #print(\"yes\")\n",
    "while True:\n",
    "    target_window = gw.getWindowsWithTitle('Car Mechanic Simulator 2021')[0]\n",
    "    window_rect = (target_window.left, target_window.top, target_window.width, target_window.height)\n",
    "    screenshot = pyautogui.screenshot()\n",
    "    screenshot = screenshot.crop((window_rect[0]+440, window_rect[1]+272, window_rect[0] + 433+425, window_rect[1] +272+132))\n",
    "    image = cv2.cvtColor(np.array(screenshot), cv2.COLOR_RGB2BGR)\n",
    "    position(image,x_list,y_list,cursor,True)\n",
    "    if cv2.waitKey(1) == ord('q'):\n",
    "            break"
   ]
  },
  {
   "cell_type": "code",
   "execution_count": 39,
   "metadata": {},
   "outputs": [
    {
     "name": "stdout",
     "output_type": "stream",
     "text": [
      "[5 0 4 ... 5 6 8] (60000,)\n"
     ]
    }
   ],
   "source": [
    "(x_train, y_train), (x_test, y_test) = mnist.load_data()\n",
    "x_train = x_train/255.0\n",
    "x_test = x_test/255.0\n",
    "print(y_train,y_train.shape)"
   ]
  },
  {
   "cell_type": "code",
   "execution_count": null,
   "metadata": {},
   "outputs": [],
   "source": [
    "import tensorflow\n",
    "from keras.datasets import mnist\n",
    "from keras.models import Sequential\n",
    "from keras.layers import *\n",
    "(x_train, y_train), (x_test, y_test) = mnist.load_data()\n",
    "x_train = x_train/255.0\n",
    "x_test = x_test/255.0\n",
    "#x_train = x_train.reshape((-1,784))\n",
    "#x_test = x_test.reshape((-1,784))\n",
    "y_train = tensorflow.keras.utils.to_categorical(y_train, 10)\n",
    "y_test = tensorflow.keras.utils.to_categorical(y_test, 10)\n",
    "model = Sequential()\n",
    "\n",
    "model.add(Conv2D(32,(5,5),padding='Same',activation='relu',strides=1,input_shape=(28,28,1)))\n",
    "model.add(Conv2D(32,(5,5),padding='Same',activation='relu',strides=1))\n",
    "model.add(MaxPooling2D(pool_size=2))\n",
    "model.add(Dropout(0.25))\n",
    "model.add(Conv2D(32,(3,3),padding='Same',activation='relu',strides=1))\n",
    "model.add(Conv2D(32,(3,3),padding='Same',activation='relu',strides=1))\n",
    "model.add(MaxPooling2D(pool_size=2))\n",
    "model.add(Dropout(0.25))\n",
    "model.add(Flatten())\n",
    "model.add(Dense(256,activation='relu'))\n",
    "model.add(Dense(10,activation='softmax'))\n",
    "\n",
    "# model.compile(loss=tensorflow.keras.losses.categorical_crossentropy, optimizer=tensorflow.keras.optimizers.SGD(),metrics=['accuracy'])\n",
    "model.compile(loss=tensorflow.keras.losses.categorical_crossentropy, optimizer=tensorflow.keras.optimizers.Adam(),metrics=['accuracy'])\n",
    "model.fit(x_train,y_train,batch_size=32, verbose=1, epochs=30)\n",
    "yp = model.predict(x_test)\n",
    "print(yp.shape)\n",
    "print(model.evaluate(x_test,y_test))"
   ]
  },
  {
   "cell_type": "code",
   "execution_count": 93,
   "metadata": {},
   "outputs": [
    {
     "name": "stderr",
     "output_type": "stream",
     "text": [
      "Traceback (most recent call last):\n",
      "  File \"_pydevd_bundle/pydevd_cython.pyx\", line 1134, in _pydevd_bundle.pydevd_cython.PyDBFrame.trace_dispatch\n",
      "  File \"_pydevd_bundle/pydevd_cython.pyx\", line 311, in _pydevd_bundle.pydevd_cython.PyDBFrame.do_wait_suspend\n",
      "  File \"d:\\python\\lib\\site-packages\\debugpy\\_vendored\\pydevd\\pydevd.py\", line 2062, in do_wait_suspend\n",
      "    keep_suspended = self._do_wait_suspend(thread, frame, event, arg, suspend_type, from_this_thread, frames_tracker)\n",
      "  File \"d:\\python\\lib\\site-packages\\debugpy\\_vendored\\pydevd\\pydevd.py\", line 2098, in _do_wait_suspend\n",
      "    time.sleep(0.01)\n",
      "KeyboardInterrupt\n"
     ]
    },
    {
     "ename": "KeyboardInterrupt",
     "evalue": "",
     "output_type": "error",
     "traceback": [
      "\u001b[1;31m---------------------------------------------------------------------------\u001b[0m",
      "\u001b[1;31mKeyboardInterrupt\u001b[0m                         Traceback (most recent call last)",
      "Cell \u001b[1;32mIn [93], line 1\u001b[0m\n\u001b[1;32m----> 1\u001b[0m \u001b[38;5;28;01mimport\u001b[39;00m \u001b[38;5;21;01mkeyboard\u001b[39;00m\n\u001b[0;32m      2\u001b[0m \u001b[38;5;28;01mimport\u001b[39;00m \u001b[38;5;21;01mtime\u001b[39;00m\n\u001b[0;32m      3\u001b[0m \u001b[38;5;28;01mimport\u001b[39;00m \u001b[38;5;21;01mpyautogui\u001b[39;00m\n",
      "Cell \u001b[1;32mIn [93], line 1\u001b[0m\n\u001b[1;32m----> 1\u001b[0m \u001b[38;5;28;01mimport\u001b[39;00m \u001b[38;5;21;01mkeyboard\u001b[39;00m\n\u001b[0;32m      2\u001b[0m \u001b[38;5;28;01mimport\u001b[39;00m \u001b[38;5;21;01mtime\u001b[39;00m\n\u001b[0;32m      3\u001b[0m \u001b[38;5;28;01mimport\u001b[39;00m \u001b[38;5;21;01mpyautogui\u001b[39;00m\n",
      "File \u001b[1;32m_pydevd_bundle/pydevd_cython.pyx:1443\u001b[0m, in \u001b[0;36m_pydevd_bundle.pydevd_cython.SafeCallWrapper.__call__\u001b[1;34m()\u001b[0m\n",
      "File \u001b[1;32m_pydevd_bundle/pydevd_cython.pyx:700\u001b[0m, in \u001b[0;36m_pydevd_bundle.pydevd_cython.PyDBFrame.trace_dispatch\u001b[1;34m()\u001b[0m\n",
      "File \u001b[1;32m_pydevd_bundle/pydevd_cython.pyx:1143\u001b[0m, in \u001b[0;36m_pydevd_bundle.pydevd_cython.PyDBFrame.trace_dispatch\u001b[1;34m()\u001b[0m\n",
      "File \u001b[1;32m_pydevd_bundle/pydevd_cython.pyx:1134\u001b[0m, in \u001b[0;36m_pydevd_bundle.pydevd_cython.PyDBFrame.trace_dispatch\u001b[1;34m()\u001b[0m\n",
      "File \u001b[1;32m_pydevd_bundle/pydevd_cython.pyx:311\u001b[0m, in \u001b[0;36m_pydevd_bundle.pydevd_cython.PyDBFrame.do_wait_suspend\u001b[1;34m()\u001b[0m\n",
      "File \u001b[1;32md:\\python\\lib\\site-packages\\debugpy\\_vendored\\pydevd\\pydevd.py:2062\u001b[0m, in \u001b[0;36mPyDB.do_wait_suspend\u001b[1;34m(self, thread, frame, event, arg, exception_type)\u001b[0m\n\u001b[0;32m   2059\u001b[0m             from_this_thread\u001b[38;5;241m.\u001b[39mappend(frame_custom_thread_id)\n\u001b[0;32m   2061\u001b[0m     \u001b[38;5;28;01mwith\u001b[39;00m \u001b[38;5;28mself\u001b[39m\u001b[38;5;241m.\u001b[39m_threads_suspended_single_notification\u001b[38;5;241m.\u001b[39mnotify_thread_suspended(thread_id, stop_reason):\n\u001b[1;32m-> 2062\u001b[0m         keep_suspended \u001b[38;5;241m=\u001b[39m \u001b[38;5;28;43mself\u001b[39;49m\u001b[38;5;241;43m.\u001b[39;49m\u001b[43m_do_wait_suspend\u001b[49m\u001b[43m(\u001b[49m\u001b[43mthread\u001b[49m\u001b[43m,\u001b[49m\u001b[43m \u001b[49m\u001b[43mframe\u001b[49m\u001b[43m,\u001b[49m\u001b[43m \u001b[49m\u001b[43mevent\u001b[49m\u001b[43m,\u001b[49m\u001b[43m \u001b[49m\u001b[43marg\u001b[49m\u001b[43m,\u001b[49m\u001b[43m \u001b[49m\u001b[43msuspend_type\u001b[49m\u001b[43m,\u001b[49m\u001b[43m \u001b[49m\u001b[43mfrom_this_thread\u001b[49m\u001b[43m,\u001b[49m\u001b[43m \u001b[49m\u001b[43mframes_tracker\u001b[49m\u001b[43m)\u001b[49m\n\u001b[0;32m   2064\u001b[0m frames_list \u001b[38;5;241m=\u001b[39m \u001b[38;5;28;01mNone\u001b[39;00m\n\u001b[0;32m   2066\u001b[0m \u001b[38;5;28;01mif\u001b[39;00m keep_suspended:\n\u001b[0;32m   2067\u001b[0m     \u001b[38;5;66;03m# This means that we should pause again after a set next statement.\u001b[39;00m\n",
      "File \u001b[1;32md:\\python\\lib\\site-packages\\debugpy\\_vendored\\pydevd\\pydevd.py:2098\u001b[0m, in \u001b[0;36mPyDB._do_wait_suspend\u001b[1;34m(self, thread, frame, event, arg, suspend_type, from_this_thread, frames_tracker)\u001b[0m\n\u001b[0;32m   2095\u001b[0m         \u001b[38;5;28mself\u001b[39m\u001b[38;5;241m.\u001b[39m_call_input_hook()\n\u001b[0;32m   2097\u001b[0m     \u001b[38;5;28mself\u001b[39m\u001b[38;5;241m.\u001b[39mprocess_internal_commands()\n\u001b[1;32m-> 2098\u001b[0m     \u001b[43mtime\u001b[49m\u001b[38;5;241;43m.\u001b[39;49m\u001b[43msleep\u001b[49m\u001b[43m(\u001b[49m\u001b[38;5;241;43m0.01\u001b[39;49m\u001b[43m)\u001b[49m\n\u001b[0;32m   2100\u001b[0m \u001b[38;5;28mself\u001b[39m\u001b[38;5;241m.\u001b[39mcancel_async_evaluation(get_current_thread_id(thread), \u001b[38;5;28mstr\u001b[39m(\u001b[38;5;28mid\u001b[39m(frame)))\n\u001b[0;32m   2102\u001b[0m \u001b[38;5;66;03m# process any stepping instructions\u001b[39;00m\n",
      "\u001b[1;31mKeyboardInterrupt\u001b[0m: "
     ]
    },
    {
     "ename": "",
     "evalue": "",
     "output_type": "error",
     "traceback": [
      "\u001b[1;31m在当前单元格或上一个单元格中执行代码时 Kernel 崩溃。\n",
      "\u001b[1;31m请查看单元格中的代码，以确定故障的可能原因。\n",
      "\u001b[1;31m单击<a href='https://aka.ms/vscodeJupyterKernelCrash'>此处</a>了解详细信息。\n",
      "\u001b[1;31m有关更多详细信息，请查看 Jupyter <a href='command:jupyter.viewOutput'>log</a>。"
     ]
    }
   ],
   "source": [
    "import keyboard\n",
    "import time\n",
    "import pyautogui\n",
    "\n",
    "def start():\n",
    "    print(\"开始运行\")\n",
    "\n",
    "def stop():\n",
    "    print(\"结束运行\")\n",
    "    keyboard.unhook_all()  # 停止监听按键事件\n",
    "\n",
    "def main():\n",
    "    start_key = \"1\"  # 开始运行的按键\n",
    "    stop_key = \"2\"   # 结束运行的按键\n",
    "\n",
    "    keyboard.on_press_key(start_key, lambda _: start())  # 监听开始运行的按键\n",
    "    keyboard.on_press_key(stop_key, lambda _: stop())    # 监听结束运行的按键\n",
    "\n",
    "    # 进入一个无限循环，以便程序保持运行\n",
    "    while True:\n",
    "        time.sleep(1)\n",
    "\n",
    "if __name__ == \"__main__\":\n",
    "    main()\n"
   ]
  }
 ],
 "metadata": {
  "kernelspec": {
   "display_name": "Python 3",
   "language": "python",
   "name": "python3"
  },
  "language_info": {
   "codemirror_mode": {
    "name": "ipython",
    "version": 3
   },
   "file_extension": ".py",
   "mimetype": "text/x-python",
   "name": "python",
   "nbconvert_exporter": "python",
   "pygments_lexer": "ipython3",
   "version": "3.10.4"
  }
 },
 "nbformat": 4,
 "nbformat_minor": 2
}
